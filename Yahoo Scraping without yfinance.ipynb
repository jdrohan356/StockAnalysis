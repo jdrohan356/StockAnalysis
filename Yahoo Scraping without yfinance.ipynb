{
 "cells": [
  {
   "cell_type": "markdown",
   "metadata": {},
   "source": [
    "# Scraping Yahoo Finance without using yfinance library"
   ]
  },
  {
   "cell_type": "code",
   "execution_count": 7,
   "metadata": {},
   "outputs": [],
   "source": [
    "import pandas as pd\n",
    "import numpy as np\n",
    "import matplotlib.pyplot as plt\n",
    "from pandas_datareader import DataReader\n",
    "from datetime import datetime as dt\n",
    "%matplotlib inline"
   ]
  },
  {
   "cell_type": "markdown",
   "metadata": {},
   "source": [
    "## Create stock list, and set test_end_date as today's date, then define window for test and train data."
   ]
  },
  {
   "cell_type": "code",
   "execution_count": 8,
   "metadata": {},
   "outputs": [
    {
     "name": "stdout",
     "output_type": "stream",
     "text": [
      "Train Data dates :  2020-04-12 00:00:00 to 2022-01-12 00:00:00\n",
      "Test Data dates :  2022-01-12 00:00:00 to 2022-04-12 11:27:12.193589\n"
     ]
    }
   ],
   "source": [
    "stock_lst = ['WFTUF','SWN','ITW','HAL','EQT','XCQ.SG','INTC','TKR','SLB']\n",
    "test_end_date = dt.now()\n",
    "test_start_date = dt(test_end_date.year,test_end_date.month-3,test_end_date.day)\n",
    "train_end_date = dt(test_end_date.year, test_end_date.month-3, test_end_date.day)\n",
    "train_start_date = dt(test_end_date.year-2, test_end_date.month, test_end_date.day)\n",
    "print(\"Train Data dates : \", train_start_date ,'to', train_end_date)\n",
    "print(\"Test Data dates : \", test_start_date, 'to', test_end_date)"
   ]
  },
  {
   "cell_type": "code",
   "execution_count": 9,
   "metadata": {},
   "outputs": [],
   "source": [
    "for stock in stock_lst:\n",
    "    globals()[stock] = DataReader(stock,'yahoo',test_start_date,test_end_date)"
   ]
  },
  {
   "cell_type": "markdown",
   "metadata": {},
   "source": [
    "## Code to extract Test data as csv file for each stock within specified time window"
   ]
  },
  {
   "cell_type": "code",
   "execution_count": 10,
   "metadata": {},
   "outputs": [],
   "source": [
    "company_list=['Weatherford','Southwestern Energy','Illinois Tool Works','Haliburton',\n",
    "              'EQT Corporation','Cabot Oil','Timken Company','Schlumberger']\n",
    "for stock,company in zip(stock_lst,company_list):\n",
    "    google_Stock = globals()[stock]\n",
    "    google_Stock['Company']=company\n",
    "    google_Stock.to_csv(stock+'_stock_test.csv')"
   ]
  },
  {
   "cell_type": "code",
   "execution_count": 11,
   "metadata": {},
   "outputs": [],
   "source": [
    "for stock in stock_lst:\n",
    "    globals()[stock] = DataReader(stock,'yahoo',train_start_date,train_end_date)"
   ]
  },
  {
   "cell_type": "markdown",
   "metadata": {},
   "source": [
    "## Code to extract Train data as csv file for each stock within specified window"
   ]
  },
  {
   "cell_type": "code",
   "execution_count": 12,
   "metadata": {},
   "outputs": [],
   "source": [
    "company_list=['Weatherford','Southwestern Energy','Illinois Tool Works','Haliburton',\n",
    "              'EQT Corporation','Cabot Oil','Timken Company','Schlumberger']\n",
    "for stock,company in zip(stock_lst,company_list):\n",
    "    google_Stock = globals()[stock]\n",
    "    google_Stock['Company']=company\n",
    "    google_Stock.to_csv(stock+'_stock_train.csv')"
   ]
  }
 ],
 "metadata": {
  "kernelspec": {
   "display_name": "Python 3",
   "language": "python",
   "name": "python3"
  },
  "language_info": {
   "codemirror_mode": {
    "name": "ipython",
    "version": 3
   },
   "file_extension": ".py",
   "mimetype": "text/x-python",
   "name": "python",
   "nbconvert_exporter": "python",
   "pygments_lexer": "ipython3",
   "version": "3.7.4"
  }
 },
 "nbformat": 4,
 "nbformat_minor": 2
}
