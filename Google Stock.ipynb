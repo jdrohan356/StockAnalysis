{
 "cells": [
  {
   "cell_type": "code",
   "execution_count": 1,
   "id": "8dcb027b",
   "metadata": {},
   "outputs": [],
   "source": [
    "from sklearn.preprocessing import MinMaxScaler\n",
    "import pandas as pd\n",
    "import matplotlib.pyplot as plt\n",
    "import numpy as np\n",
    "import yfinance as yf"
   ]
  },
  {
   "cell_type": "code",
   "execution_count": 2,
   "id": "480a0297",
   "metadata": {},
   "outputs": [
    {
     "name": "stdout",
     "output_type": "stream",
     "text": [
      "[*********************100%***********************]  1 of 1 completed\n"
     ]
    }
   ],
   "source": [
    "data = yf.download(tickers='AAPL',period='5y',interval='1d')"
   ]
  },
  {
   "cell_type": "code",
   "execution_count": 3,
   "id": "6b8e08e2",
   "metadata": {},
   "outputs": [
    {
     "data": {
      "text/html": [
       "<div>\n",
       "<style scoped>\n",
       "    .dataframe tbody tr th:only-of-type {\n",
       "        vertical-align: middle;\n",
       "    }\n",
       "\n",
       "    .dataframe tbody tr th {\n",
       "        vertical-align: top;\n",
       "    }\n",
       "\n",
       "    .dataframe thead th {\n",
       "        text-align: right;\n",
       "    }\n",
       "</style>\n",
       "<table border=\"1\" class=\"dataframe\">\n",
       "  <thead>\n",
       "    <tr style=\"text-align: right;\">\n",
       "      <th></th>\n",
       "      <th>Open</th>\n",
       "      <th>High</th>\n",
       "      <th>Low</th>\n",
       "      <th>Close</th>\n",
       "      <th>Adj Close</th>\n",
       "      <th>Volume</th>\n",
       "    </tr>\n",
       "    <tr>\n",
       "      <th>Date</th>\n",
       "      <th></th>\n",
       "      <th></th>\n",
       "      <th></th>\n",
       "      <th></th>\n",
       "      <th></th>\n",
       "      <th></th>\n",
       "    </tr>\n",
       "  </thead>\n",
       "  <tbody>\n",
       "    <tr>\n",
       "      <th>2022-02-18</th>\n",
       "      <td>169.820007</td>\n",
       "      <td>170.539993</td>\n",
       "      <td>166.190002</td>\n",
       "      <td>167.300003</td>\n",
       "      <td>167.300003</td>\n",
       "      <td>82614200</td>\n",
       "    </tr>\n",
       "    <tr>\n",
       "      <th>2022-02-22</th>\n",
       "      <td>164.979996</td>\n",
       "      <td>166.690002</td>\n",
       "      <td>162.149994</td>\n",
       "      <td>164.320007</td>\n",
       "      <td>164.320007</td>\n",
       "      <td>91162800</td>\n",
       "    </tr>\n",
       "    <tr>\n",
       "      <th>2022-02-23</th>\n",
       "      <td>165.539993</td>\n",
       "      <td>166.149994</td>\n",
       "      <td>159.750000</td>\n",
       "      <td>160.070007</td>\n",
       "      <td>160.070007</td>\n",
       "      <td>90009200</td>\n",
       "    </tr>\n",
       "    <tr>\n",
       "      <th>2022-02-24</th>\n",
       "      <td>152.580002</td>\n",
       "      <td>162.850006</td>\n",
       "      <td>152.000000</td>\n",
       "      <td>162.740005</td>\n",
       "      <td>162.740005</td>\n",
       "      <td>141147500</td>\n",
       "    </tr>\n",
       "    <tr>\n",
       "      <th>2022-02-25</th>\n",
       "      <td>163.839996</td>\n",
       "      <td>165.119995</td>\n",
       "      <td>160.869995</td>\n",
       "      <td>164.850006</td>\n",
       "      <td>164.850006</td>\n",
       "      <td>91881700</td>\n",
       "    </tr>\n",
       "  </tbody>\n",
       "</table>\n",
       "</div>"
      ],
      "text/plain": [
       "                  Open        High         Low       Close   Adj Close  \\\n",
       "Date                                                                     \n",
       "2022-02-18  169.820007  170.539993  166.190002  167.300003  167.300003   \n",
       "2022-02-22  164.979996  166.690002  162.149994  164.320007  164.320007   \n",
       "2022-02-23  165.539993  166.149994  159.750000  160.070007  160.070007   \n",
       "2022-02-24  152.580002  162.850006  152.000000  162.740005  162.740005   \n",
       "2022-02-25  163.839996  165.119995  160.869995  164.850006  164.850006   \n",
       "\n",
       "               Volume  \n",
       "Date                   \n",
       "2022-02-18   82614200  \n",
       "2022-02-22   91162800  \n",
       "2022-02-23   90009200  \n",
       "2022-02-24  141147500  \n",
       "2022-02-25   91881700  "
      ]
     },
     "execution_count": 3,
     "metadata": {},
     "output_type": "execute_result"
    }
   ],
   "source": [
    "data.tail()"
   ]
  },
  {
   "cell_type": "code",
   "execution_count": 4,
   "id": "8c55f35b",
   "metadata": {},
   "outputs": [],
   "source": [
    "normalizer = MinMaxScaler(feature_range = (0,1))"
   ]
  },
  {
   "cell_type": "code",
   "execution_count": 5,
   "id": "e2de103f",
   "metadata": {},
   "outputs": [
    {
     "data": {
      "text/html": [
       "<div>\n",
       "<style scoped>\n",
       "    .dataframe tbody tr th:only-of-type {\n",
       "        vertical-align: middle;\n",
       "    }\n",
       "\n",
       "    .dataframe tbody tr th {\n",
       "        vertical-align: top;\n",
       "    }\n",
       "\n",
       "    .dataframe thead th {\n",
       "        text-align: right;\n",
       "    }\n",
       "</style>\n",
       "<table border=\"1\" class=\"dataframe\">\n",
       "  <thead>\n",
       "    <tr style=\"text-align: right;\">\n",
       "      <th></th>\n",
       "      <th>Open</th>\n",
       "      <th>High</th>\n",
       "      <th>Low</th>\n",
       "      <th>Close</th>\n",
       "      <th>Adj Close</th>\n",
       "      <th>Volume</th>\n",
       "    </tr>\n",
       "    <tr>\n",
       "      <th>Date</th>\n",
       "      <th></th>\n",
       "      <th></th>\n",
       "      <th></th>\n",
       "      <th></th>\n",
       "      <th></th>\n",
       "      <th></th>\n",
       "    </tr>\n",
       "  </thead>\n",
       "  <tbody>\n",
       "    <tr>\n",
       "      <th>2017-02-27</th>\n",
       "      <td>34.285000</td>\n",
       "      <td>34.360001</td>\n",
       "      <td>34.070000</td>\n",
       "      <td>34.232498</td>\n",
       "      <td>32.320950</td>\n",
       "      <td>81029600</td>\n",
       "    </tr>\n",
       "    <tr>\n",
       "      <th>2017-02-28</th>\n",
       "      <td>34.270000</td>\n",
       "      <td>34.360001</td>\n",
       "      <td>34.174999</td>\n",
       "      <td>34.247501</td>\n",
       "      <td>32.335117</td>\n",
       "      <td>93931600</td>\n",
       "    </tr>\n",
       "    <tr>\n",
       "      <th>2017-03-01</th>\n",
       "      <td>34.472500</td>\n",
       "      <td>35.037498</td>\n",
       "      <td>34.400002</td>\n",
       "      <td>34.947498</td>\n",
       "      <td>32.996029</td>\n",
       "      <td>145658400</td>\n",
       "    </tr>\n",
       "    <tr>\n",
       "      <th>2017-03-02</th>\n",
       "      <td>35.000000</td>\n",
       "      <td>35.070000</td>\n",
       "      <td>34.689999</td>\n",
       "      <td>34.740002</td>\n",
       "      <td>32.800110</td>\n",
       "      <td>104844000</td>\n",
       "    </tr>\n",
       "    <tr>\n",
       "      <th>2017-03-03</th>\n",
       "      <td>34.695000</td>\n",
       "      <td>34.957500</td>\n",
       "      <td>34.647499</td>\n",
       "      <td>34.945000</td>\n",
       "      <td>32.993668</td>\n",
       "      <td>84432400</td>\n",
       "    </tr>\n",
       "    <tr>\n",
       "      <th>...</th>\n",
       "      <td>...</td>\n",
       "      <td>...</td>\n",
       "      <td>...</td>\n",
       "      <td>...</td>\n",
       "      <td>...</td>\n",
       "      <td>...</td>\n",
       "    </tr>\n",
       "    <tr>\n",
       "      <th>2022-02-18</th>\n",
       "      <td>169.820007</td>\n",
       "      <td>170.539993</td>\n",
       "      <td>166.190002</td>\n",
       "      <td>167.300003</td>\n",
       "      <td>167.300003</td>\n",
       "      <td>82614200</td>\n",
       "    </tr>\n",
       "    <tr>\n",
       "      <th>2022-02-22</th>\n",
       "      <td>164.979996</td>\n",
       "      <td>166.690002</td>\n",
       "      <td>162.149994</td>\n",
       "      <td>164.320007</td>\n",
       "      <td>164.320007</td>\n",
       "      <td>91162800</td>\n",
       "    </tr>\n",
       "    <tr>\n",
       "      <th>2022-02-23</th>\n",
       "      <td>165.539993</td>\n",
       "      <td>166.149994</td>\n",
       "      <td>159.750000</td>\n",
       "      <td>160.070007</td>\n",
       "      <td>160.070007</td>\n",
       "      <td>90009200</td>\n",
       "    </tr>\n",
       "    <tr>\n",
       "      <th>2022-02-24</th>\n",
       "      <td>152.580002</td>\n",
       "      <td>162.850006</td>\n",
       "      <td>152.000000</td>\n",
       "      <td>162.740005</td>\n",
       "      <td>162.740005</td>\n",
       "      <td>141147500</td>\n",
       "    </tr>\n",
       "    <tr>\n",
       "      <th>2022-02-25</th>\n",
       "      <td>163.839996</td>\n",
       "      <td>165.119995</td>\n",
       "      <td>160.869995</td>\n",
       "      <td>164.850006</td>\n",
       "      <td>164.850006</td>\n",
       "      <td>91881700</td>\n",
       "    </tr>\n",
       "  </tbody>\n",
       "</table>\n",
       "<p>1260 rows × 6 columns</p>\n",
       "</div>"
      ],
      "text/plain": [
       "                  Open        High         Low       Close   Adj Close  \\\n",
       "Date                                                                     \n",
       "2017-02-27   34.285000   34.360001   34.070000   34.232498   32.320950   \n",
       "2017-02-28   34.270000   34.360001   34.174999   34.247501   32.335117   \n",
       "2017-03-01   34.472500   35.037498   34.400002   34.947498   32.996029   \n",
       "2017-03-02   35.000000   35.070000   34.689999   34.740002   32.800110   \n",
       "2017-03-03   34.695000   34.957500   34.647499   34.945000   32.993668   \n",
       "...                ...         ...         ...         ...         ...   \n",
       "2022-02-18  169.820007  170.539993  166.190002  167.300003  167.300003   \n",
       "2022-02-22  164.979996  166.690002  162.149994  164.320007  164.320007   \n",
       "2022-02-23  165.539993  166.149994  159.750000  160.070007  160.070007   \n",
       "2022-02-24  152.580002  162.850006  152.000000  162.740005  162.740005   \n",
       "2022-02-25  163.839996  165.119995  160.869995  164.850006  164.850006   \n",
       "\n",
       "               Volume  \n",
       "Date                   \n",
       "2017-02-27   81029600  \n",
       "2017-02-28   93931600  \n",
       "2017-03-01  145658400  \n",
       "2017-03-02  104844000  \n",
       "2017-03-03   84432400  \n",
       "...               ...  \n",
       "2022-02-18   82614200  \n",
       "2022-02-22   91162800  \n",
       "2022-02-23   90009200  \n",
       "2022-02-24  141147500  \n",
       "2022-02-25   91881700  \n",
       "\n",
       "[1260 rows x 6 columns]"
      ]
     },
     "execution_count": 5,
     "metadata": {},
     "output_type": "execute_result"
    }
   ],
   "source": [
    "data"
   ]
  },
  {
   "cell_type": "code",
   "execution_count": 6,
   "id": "55caf5b0",
   "metadata": {},
   "outputs": [],
   "source": [
    "data = data[\"Open\"]\n",
    "data = np.array(data)\n",
    "data = data.reshape(-1,1)\n",
    "data = normalizer.fit_transform(data)"
   ]
  },
  {
   "cell_type": "code",
   "execution_count": 7,
   "id": "0ffbd612",
   "metadata": {},
   "outputs": [
    {
     "data": {
      "text/plain": [
       "[<matplotlib.lines.Line2D at 0x20d49293ac0>]"
      ]
     },
     "execution_count": 7,
     "metadata": {},
     "output_type": "execute_result"
    },
    {
     "data": {
      "image/png": "[encoded data removed]",
      "text/plain": [
       "<Figure size 432x288 with 1 Axes>"
      ]
     },
     "metadata": {
      "needs_background": "light"
     },
     "output_type": "display_data"
    }
   ],
   "source": [
    "plt.plot(data)"
   ]
  },
  {
   "cell_type": "code",
   "execution_count": 8,
   "id": "89b95e16",
   "metadata": {},
   "outputs": [],
   "source": [
    "training, testing = data[:1000], data[1000:]"
   ]
  },
  {
   "cell_type": "code",
   "execution_count": 9,
   "id": "18b02ea4",
   "metadata": {},
   "outputs": [],
   "source": [
    "def createDS(data,steps):\n",
    "    X = []\n",
    "    Y = []\n",
    "    for i in range(len(data)-steps):\n",
    "        X.append(data[i:i+steps, 0])\n",
    "        Y.append(data[i+steps, 0])\n",
    "    return np.array(X) , np.array(Y)"
   ]
  },
  {
   "cell_type": "code",
   "execution_count": 10,
   "id": "bd3154ed",
   "metadata": {},
   "outputs": [],
   "source": [
    "X_train,Y_train = createDS(training,100)\n",
    "X_test,Y_test = createDS(testing,100)"
   ]
  },
  {
   "cell_type": "code",
   "execution_count": 11,
   "id": "ec261950",
   "metadata": {},
   "outputs": [
    {
     "data": {
      "text/plain": [
       "(160,)"
      ]
     },
     "execution_count": 11,
     "metadata": {},
     "output_type": "execute_result"
    }
   ],
   "source": [
    "Y_test.shape"
   ]
  },
  {
   "cell_type": "code",
   "execution_count": 12,
   "id": "656b3296",
   "metadata": {},
   "outputs": [],
   "source": [
    "X_train = X_train.reshape(900,100,1)"
   ]
  },
  {
   "cell_type": "code",
   "execution_count": 13,
   "id": "53a88ece",
   "metadata": {},
   "outputs": [],
   "source": [
    "from keras.models import Sequential\n",
    "from keras.layers import Dense, LSTM"
   ]
  },
  {
   "cell_type": "code",
   "execution_count": 14,
   "id": "1bb7010c",
   "metadata": {},
   "outputs": [],
   "source": [
    "model = Sequential()"
   ]
  },
  {
   "cell_type": "code",
   "execution_count": 15,
   "id": "7188d0ca",
   "metadata": {},
   "outputs": [],
   "source": [
    "model.add(LSTM(units = 120, return_sequences = True))\n",
    "model.add(LSTM(units = 60, return_sequences = True))\n",
    "model.add(LSTM(units = 30))\n",
    "model.add(Dense(units = 1, activation = \"linear\"))"
   ]
  },
  {
   "cell_type": "code",
   "execution_count": 16,
   "id": "78c2bc7f",
   "metadata": {},
   "outputs": [],
   "source": [
    "model.compile(loss = \"mean_squared_error\", optimizer = \"RMSprop\", metrics = [\"accuracy\"])"
   ]
  },
  {
   "cell_type": "code",
   "execution_count": 17,
   "id": "4080dda8",
   "metadata": {},
   "outputs": [
    {
     "name": "stdout",
     "output_type": "stream",
     "text": [
      "Epoch 1/10\n",
      "29/29 [==============================] - 16s 189ms/step - loss: 0.0065 - accuracy: 0.0000e+00\n",
      "Epoch 2/10\n",
      "29/29 [==============================] - 5s 161ms/step - loss: 0.0025 - accuracy: 0.0000e+00\n",
      "Epoch 3/10\n",
      "29/29 [==============================] - 5s 162ms/step - loss: 0.0022 - accuracy: 0.0000e+00\n",
      "Epoch 4/10\n",
      "29/29 [==============================] - 5s 163ms/step - loss: 0.0019 - accuracy: 0.0000e+00\n",
      "Epoch 5/10\n",
      "29/29 [==============================] - 5s 164ms/step - loss: 0.0016 - accuracy: 0.0000e+00\n",
      "Epoch 6/10\n",
      "29/29 [==============================] - 5s 163ms/step - loss: 0.0012 - accuracy: 0.0000e+00\n",
      "Epoch 7/10\n",
      "29/29 [==============================] - 5s 160ms/step - loss: 0.0010 - accuracy: 0.0000e+00\n",
      "Epoch 8/10\n",
      "29/29 [==============================] - 5s 161ms/step - loss: 0.0012 - accuracy: 0.0000e+00\n",
      "Epoch 9/10\n",
      "29/29 [==============================] - 5s 159ms/step - loss: 0.0012 - accuracy: 0.0000e+00\n",
      "Epoch 10/10\n",
      "29/29 [==============================] - 5s 162ms/step - loss: 9.2517e-04 - accuracy: 0.0000e+00\n"
     ]
    },
    {
     "data": {
      "text/plain": [
       "<keras.callbacks.History at 0x20d5071e190>"
      ]
     },
     "execution_count": 17,
     "metadata": {},
     "output_type": "execute_result"
    }
   ],
   "source": [
    "model.fit(X_train,Y_train,epochs = 10)"
   ]
  },
  {
   "cell_type": "code",
   "execution_count": 18,
   "id": "fb8c2a87",
   "metadata": {},
   "outputs": [],
   "source": [
    "loss_data = model.history.history[\"loss\"]"
   ]
  },
  {
   "cell_type": "code",
   "execution_count": 19,
   "id": "dc7e1ae3",
   "metadata": {},
   "outputs": [
    {
     "data": {
      "text/plain": [
       "[<matplotlib.lines.Line2D at 0x20d5f4d6af0>]"
      ]
     },
     "execution_count": 19,
     "metadata": {},
     "output_type": "execute_result"
    },
    {
     "data": {
      "image/png": "[encoded data removed]",
      "text/plain": [
       "<Figure size 432x288 with 1 Axes>"
      ]
     },
     "metadata": {
      "needs_background": "light"
     },
     "output_type": "display_data"
    }
   ],
   "source": [
    "loss_data_df = pd.DataFrame(loss_data)\n",
    "plt.plot(loss_data_df)"
   ]
  },
  {
   "cell_type": "code",
   "execution_count": 21,
   "id": "668d03cb",
   "metadata": {},
   "outputs": [],
   "source": [
    "#X_test = X_test.reshape(159,100,1)\n",
    "pred_values = model.predict(X_test.reshape(160,100,1))\n",
    "Y_test = normalizer.inverse_transform(Y_test.reshape(-1,1))\n",
    "pred_values = normalizer.inverse_transform(pred_values)"
   ]
  },
  {
   "cell_type": "code",
   "execution_count": 23,
   "id": "3fad8d8f",
   "metadata": {},
   "outputs": [
    {
     "data": {
      "text/plain": [
       "[<matplotlib.lines.Line2D at 0x20d62977b50>]"
      ]
     },
     "execution_count": 23,
     "metadata": {},
     "output_type": "execute_result"
    },
    {
     "data": {
      "image/png": "[encoded data removed]",
      "text/plain": [
       "<Figure size 432x288 with 1 Axes>"
      ]
     },
     "metadata": {
      "needs_background": "light"
     },
     "output_type": "display_data"
    }
   ],
   "source": [
    "plt.plot(pred_values)\n",
    "plt.plot(Y_test)"
   ]
  },
  {
   "cell_type": "code",
   "execution_count": null,
   "id": "e4a0e266",
   "metadata": {},
   "outputs": [],
   "source": []
  },
  {
   "cell_type": "code",
   "execution_count": null,
   "id": "a5b831c7",
   "metadata": {},
   "outputs": [],
   "source": []
  }
 ],
 "metadata": {
  "kernelspec": {
   "display_name": "Python 3 (ipykernel)",
   "language": "python",
   "name": "python3"
  },
  "language_info": {
   "codemirror_mode": {
    "name": "ipython",
    "version": 3
   },
   "file_extension": ".py",
   "mimetype": "text/x-python",
   "name": "python",
   "nbconvert_exporter": "python",
   "pygments_lexer": "ipython3",
   "version": "3.9.7"
  }
 },
 "nbformat": 4,
 "nbformat_minor": 5
}
