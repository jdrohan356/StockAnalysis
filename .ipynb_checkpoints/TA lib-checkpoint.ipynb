{
 "cells": [
  {
   "cell_type": "code",
   "execution_count": 92,
   "id": "b57c36eb",
   "metadata": {},
   "outputs": [],
   "source": [
    "import pandas as pd\n",
    "import matplotlib.pyplot as plt\n",
    "from ta import add_all_ta_features\n",
    "from ta.utils import dropna\n",
    "import yfinance as yf\n",
    "import datetime\n",
    "import seaborn as sns\n",
    "import numpy as np"
   ]
  },
  {
   "cell_type": "code",
   "execution_count": 93,
   "id": "daf2bd0b",
   "metadata": {},
   "outputs": [],
   "source": [
    "start = datetime.datetime(2012,4,6)\n",
    "end = datetime.datetime(2022,4,6)"
   ]
  },
  {
   "cell_type": "code",
   "execution_count": 102,
   "id": "470efd4f",
   "metadata": {},
   "outputs": [
    {
     "name": "stdout",
     "output_type": "stream",
     "text": [
      "[*********************100%***********************]  1 of 1 completed\n"
     ]
    }
   ],
   "source": [
    "stock = yf.download('AAPL',start,end)"
   ]
  },
  {
   "cell_type": "code",
   "execution_count": 103,
   "id": "7835bf73",
   "metadata": {},
   "outputs": [
    {
     "data": {
      "text/html": [
       "<div>\n",
       "<style scoped>\n",
       "    .dataframe tbody tr th:only-of-type {\n",
       "        vertical-align: middle;\n",
       "    }\n",
       "\n",
       "    .dataframe tbody tr th {\n",
       "        vertical-align: top;\n",
       "    }\n",
       "\n",
       "    .dataframe thead th {\n",
       "        text-align: right;\n",
       "    }\n",
       "</style>\n",
       "<table border=\"1\" class=\"dataframe\">\n",
       "  <thead>\n",
       "    <tr style=\"text-align: right;\">\n",
       "      <th></th>\n",
       "      <th>Open</th>\n",
       "      <th>High</th>\n",
       "      <th>Low</th>\n",
       "      <th>Close</th>\n",
       "      <th>Adj Close</th>\n",
       "      <th>Volume</th>\n",
       "    </tr>\n",
       "    <tr>\n",
       "      <th>Date</th>\n",
       "      <th></th>\n",
       "      <th></th>\n",
       "      <th></th>\n",
       "      <th></th>\n",
       "      <th></th>\n",
       "      <th></th>\n",
       "    </tr>\n",
       "  </thead>\n",
       "  <tbody>\n",
       "    <tr>\n",
       "      <th>2012-04-09</th>\n",
       "      <td>22.361786</td>\n",
       "      <td>22.851429</td>\n",
       "      <td>22.332144</td>\n",
       "      <td>22.722500</td>\n",
       "      <td>19.456690</td>\n",
       "      <td>597536800</td>\n",
       "    </tr>\n",
       "    <tr>\n",
       "      <th>2012-04-10</th>\n",
       "      <td>22.854643</td>\n",
       "      <td>23.000000</td>\n",
       "      <td>22.357143</td>\n",
       "      <td>22.444286</td>\n",
       "      <td>19.218460</td>\n",
       "      <td>889725200</td>\n",
       "    </tr>\n",
       "    <tr>\n",
       "      <th>2012-04-11</th>\n",
       "      <td>22.721430</td>\n",
       "      <td>22.745358</td>\n",
       "      <td>22.262142</td>\n",
       "      <td>22.364286</td>\n",
       "      <td>19.149961</td>\n",
       "      <td>696614800</td>\n",
       "    </tr>\n",
       "    <tr>\n",
       "      <th>2012-04-12</th>\n",
       "      <td>22.321428</td>\n",
       "      <td>22.547501</td>\n",
       "      <td>22.160713</td>\n",
       "      <td>22.241785</td>\n",
       "      <td>19.045061</td>\n",
       "      <td>614336800</td>\n",
       "    </tr>\n",
       "    <tr>\n",
       "      <th>2012-04-13</th>\n",
       "      <td>22.289642</td>\n",
       "      <td>22.310715</td>\n",
       "      <td>21.553928</td>\n",
       "      <td>21.615356</td>\n",
       "      <td>18.508675</td>\n",
       "      <td>859644800</td>\n",
       "    </tr>\n",
       "  </tbody>\n",
       "</table>\n",
       "</div>"
      ],
      "text/plain": [
       "                 Open       High        Low      Close  Adj Close     Volume\n",
       "Date                                                                        \n",
       "2012-04-09  22.361786  22.851429  22.332144  22.722500  19.456690  597536800\n",
       "2012-04-10  22.854643  23.000000  22.357143  22.444286  19.218460  889725200\n",
       "2012-04-11  22.721430  22.745358  22.262142  22.364286  19.149961  696614800\n",
       "2012-04-12  22.321428  22.547501  22.160713  22.241785  19.045061  614336800\n",
       "2012-04-13  22.289642  22.310715  21.553928  21.615356  18.508675  859644800"
      ]
     },
     "execution_count": 103,
     "metadata": {},
     "output_type": "execute_result"
    }
   ],
   "source": [
    "stock = dropna(stock)\n",
    "stock.head()"
   ]
  },
  {
   "cell_type": "code",
   "execution_count": 112,
   "id": "17d7bd13",
   "metadata": {},
   "outputs": [
    {
     "name": "stderr",
     "output_type": "stream",
     "text": [
      "C:\\Users\\harsh\\anaconda3\\envs\\python\\lib\\site-packages\\ta\\trend.py:769: RuntimeWarning: invalid value encountered in double_scalars\n",
      "  dip[idx] = 100 * (self._dip[idx] / value)\n",
      "C:\\Users\\harsh\\anaconda3\\envs\\python\\lib\\site-packages\\ta\\trend.py:774: RuntimeWarning: invalid value encountered in double_scalars\n",
      "  din[idx] = 100 * (self._din[idx] / value)\n"
     ]
    }
   ],
   "source": [
    "df = add_all_ta_features(\n",
    "    stock, open=\"Open\", high=\"High\", low=\"Low\", close=\"Close\", volume=\"Volume\")"
   ]
  },
  {
   "cell_type": "code",
   "execution_count": 113,
   "id": "701769d5",
   "metadata": {},
   "outputs": [
    {
     "name": "stdout",
     "output_type": "stream",
     "text": [
      "<class 'pandas.core.frame.DataFrame'>\n",
      "DatetimeIndex: 2516 entries, 2012-04-09 to 2022-04-05\n",
      "Data columns (total 92 columns):\n",
      " #   Column                     Non-Null Count  Dtype  \n",
      "---  ------                     --------------  -----  \n",
      " 0   Open                       2516 non-null   float64\n",
      " 1   High                       2516 non-null   float64\n",
      " 2   Low                        2516 non-null   float64\n",
      " 3   Close                      2516 non-null   float64\n",
      " 4   Adj Close                  2516 non-null   float64\n",
      " 5   Volume                     2516 non-null   int64  \n",
      " 6   volume_adi                 2516 non-null   float64\n",
      " 7   volume_obv                 2516 non-null   int64  \n",
      " 8   volume_cmf                 2497 non-null   float64\n",
      " 9   volume_fi                  2503 non-null   float64\n",
      " 10  volume_em                  2515 non-null   float64\n",
      " 11  volume_sma_em              2502 non-null   float64\n",
      " 12  volume_vpt                 2516 non-null   float64\n",
      " 13  volume_vwap                2503 non-null   float64\n",
      " 14  volume_mfi                 2503 non-null   float64\n",
      " 15  volume_nvi                 2516 non-null   float64\n",
      " 16  volatility_bbm             2497 non-null   float64\n",
      " 17  volatility_bbh             2497 non-null   float64\n",
      " 18  volatility_bbl             2497 non-null   float64\n",
      " 19  volatility_bbw             2497 non-null   float64\n",
      " 20  volatility_bbp             2497 non-null   float64\n",
      " 21  volatility_bbhi            2516 non-null   float64\n",
      " 22  volatility_bbli            2516 non-null   float64\n",
      " 23  volatility_kcc             2507 non-null   float64\n",
      " 24  volatility_kch             2516 non-null   float64\n",
      " 25  volatility_kcl             2516 non-null   float64\n",
      " 26  volatility_kcw             2507 non-null   float64\n",
      " 27  volatility_kcp             2516 non-null   float64\n",
      " 28  volatility_kchi            2516 non-null   float64\n",
      " 29  volatility_kcli            2516 non-null   float64\n",
      " 30  volatility_dcl             2497 non-null   float64\n",
      " 31  volatility_dch             2497 non-null   float64\n",
      " 32  volatility_dcm             2497 non-null   float64\n",
      " 33  volatility_dcw             2497 non-null   float64\n",
      " 34  volatility_dcp             2497 non-null   float64\n",
      " 35  volatility_atr             2516 non-null   float64\n",
      " 36  volatility_ui              2503 non-null   float64\n",
      " 37  trend_macd                 2491 non-null   float64\n",
      " 38  trend_macd_signal          2483 non-null   float64\n",
      " 39  trend_macd_diff            2483 non-null   float64\n",
      " 40  trend_sma_fast             2505 non-null   float64\n",
      " 41  trend_sma_slow             2491 non-null   float64\n",
      " 42  trend_ema_fast             2505 non-null   float64\n",
      " 43  trend_ema_slow             2491 non-null   float64\n",
      " 44  trend_vortex_ind_pos       2502 non-null   float64\n",
      " 45  trend_vortex_ind_neg       2502 non-null   float64\n",
      " 46  trend_vortex_ind_diff      2502 non-null   float64\n",
      " 47  trend_trix                 2473 non-null   float64\n",
      " 48  trend_mass_index           2476 non-null   float64\n",
      " 49  trend_dpo                  2497 non-null   float64\n",
      " 50  trend_kst                  2502 non-null   float64\n",
      " 51  trend_kst_sig              2502 non-null   float64\n",
      " 52  trend_kst_diff             2502 non-null   float64\n",
      " 53  trend_ichimoku_conv        2508 non-null   float64\n",
      " 54  trend_ichimoku_base        2491 non-null   float64\n",
      " 55  trend_ichimoku_a           2491 non-null   float64\n",
      " 56  trend_ichimoku_b           2516 non-null   float64\n",
      " 57  trend_stc                  2440 non-null   float64\n",
      " 58  trend_adx                  2516 non-null   float64\n",
      " 59  trend_adx_pos              2516 non-null   float64\n",
      " 60  trend_adx_neg              2516 non-null   float64\n",
      " 61  trend_cci                  2497 non-null   float64\n",
      " 62  trend_visual_ichimoku_a    2491 non-null   float64\n",
      " 63  trend_visual_ichimoku_b    2516 non-null   float64\n",
      " 64  trend_aroon_up             2492 non-null   float64\n",
      " 65  trend_aroon_down           2492 non-null   float64\n",
      " 66  trend_aroon_ind            2492 non-null   float64\n",
      " 67  trend_psar_up              1482 non-null   float64\n",
      " 68  trend_psar_down            1032 non-null   float64\n",
      " 69  trend_psar_up_indicator    2516 non-null   float64\n",
      " 70  trend_psar_down_indicator  2516 non-null   float64\n",
      " 71  momentum_rsi               2503 non-null   float64\n",
      " 72  momentum_stoch_rsi         2490 non-null   float64\n",
      " 73  momentum_stoch_rsi_k       2488 non-null   float64\n",
      " 74  momentum_stoch_rsi_d       2486 non-null   float64\n",
      " 75  momentum_tsi               2479 non-null   float64\n",
      " 76  momentum_uo                2488 non-null   float64\n",
      " 77  momentum_stoch             2503 non-null   float64\n",
      " 78  momentum_stoch_signal      2501 non-null   float64\n",
      " 79  momentum_wr                2503 non-null   float64\n",
      " 80  momentum_ao                2483 non-null   float64\n",
      " 81  momentum_roc               2504 non-null   float64\n",
      " 82  momentum_ppo               2491 non-null   float64\n",
      " 83  momentum_ppo_signal        2483 non-null   float64\n",
      " 84  momentum_ppo_hist          2483 non-null   float64\n",
      " 85  momentum_pvo               2491 non-null   float64\n",
      " 86  momentum_pvo_signal        2483 non-null   float64\n",
      " 87  momentum_pvo_hist          2483 non-null   float64\n",
      " 88  momentum_kama              2507 non-null   float64\n",
      " 89  others_dr                  2516 non-null   float64\n",
      " 90  others_dlr                 2515 non-null   float64\n",
      " 91  others_cr                  2516 non-null   float64\n",
      "dtypes: float64(90), int64(2)\n",
      "memory usage: 1.8 MB\n"
     ]
    }
   ],
   "source": [
    "#df.head()\n",
    "df.info()\n",
    "#trend_psar_down has many null values"
   ]
  },
  {
   "cell_type": "code",
   "execution_count": 114,
   "id": "073e2c9f",
   "metadata": {},
   "outputs": [],
   "source": [
    "df = df.drop([\"trend_psar_down\",\"trend_psar_up\"],axis = 1)"
   ]
  },
  {
   "cell_type": "code",
   "execution_count": 116,
   "id": "f5898390",
   "metadata": {},
   "outputs": [],
   "source": [
    "df = df.dropna()"
   ]
  },
  {
   "cell_type": "code",
   "execution_count": 195,
   "id": "34f63837",
   "metadata": {},
   "outputs": [],
   "source": [
    "from sklearn.model_selection import train_test_split\n",
    "from sklearn.preprocessing import StandardScaler\n",
    "from sklearn.preprocessing import MinMaxScaler"
   ]
  },
  {
   "cell_type": "code",
   "execution_count": 196,
   "id": "65587f2f",
   "metadata": {},
   "outputs": [],
   "source": [
    "scaler = MinMaxScaler()"
   ]
  },
  {
   "cell_type": "code",
   "execution_count": 178,
   "id": "a65122b6",
   "metadata": {},
   "outputs": [
    {
     "data": {
      "text/html": [
       "<div>\n",
       "<style scoped>\n",
       "    .dataframe tbody tr th:only-of-type {\n",
       "        vertical-align: middle;\n",
       "    }\n",
       "\n",
       "    .dataframe tbody tr th {\n",
       "        vertical-align: top;\n",
       "    }\n",
       "\n",
       "    .dataframe thead th {\n",
       "        text-align: right;\n",
       "    }\n",
       "</style>\n",
       "<table border=\"1\" class=\"dataframe\">\n",
       "  <thead>\n",
       "    <tr style=\"text-align: right;\">\n",
       "      <th></th>\n",
       "      <th>Open</th>\n",
       "      <th>High</th>\n",
       "      <th>Low</th>\n",
       "      <th>Adj Close</th>\n",
       "      <th>Volume</th>\n",
       "      <th>volume_adi</th>\n",
       "      <th>volume_obv</th>\n",
       "      <th>volume_cmf</th>\n",
       "      <th>volume_fi</th>\n",
       "      <th>volume_em</th>\n",
       "      <th>...</th>\n",
       "      <th>momentum_ppo</th>\n",
       "      <th>momentum_ppo_signal</th>\n",
       "      <th>momentum_ppo_hist</th>\n",
       "      <th>momentum_pvo</th>\n",
       "      <th>momentum_pvo_signal</th>\n",
       "      <th>momentum_pvo_hist</th>\n",
       "      <th>momentum_kama</th>\n",
       "      <th>others_dr</th>\n",
       "      <th>others_dlr</th>\n",
       "      <th>others_cr</th>\n",
       "    </tr>\n",
       "    <tr>\n",
       "      <th>Date</th>\n",
       "      <th></th>\n",
       "      <th></th>\n",
       "      <th></th>\n",
       "      <th></th>\n",
       "      <th></th>\n",
       "      <th></th>\n",
       "      <th></th>\n",
       "      <th></th>\n",
       "      <th></th>\n",
       "      <th></th>\n",
       "      <th></th>\n",
       "      <th></th>\n",
       "      <th></th>\n",
       "      <th></th>\n",
       "      <th></th>\n",
       "      <th></th>\n",
       "      <th></th>\n",
       "      <th></th>\n",
       "      <th></th>\n",
       "      <th></th>\n",
       "      <th></th>\n",
       "    </tr>\n",
       "  </thead>\n",
       "  <tbody>\n",
       "    <tr>\n",
       "      <th>2012-07-26</th>\n",
       "      <td>20.705713</td>\n",
       "      <td>20.728571</td>\n",
       "      <td>20.370001</td>\n",
       "      <td>17.580532</td>\n",
       "      <td>406632800</td>\n",
       "      <td>-3.425615e+09</td>\n",
       "      <td>-10816318800</td>\n",
       "      <td>0.171146</td>\n",
       "      <td>-1.058212e+08</td>\n",
       "      <td>-0.000063</td>\n",
       "      <td>...</td>\n",
       "      <td>0.298065</td>\n",
       "      <td>0.986843</td>\n",
       "      <td>-0.688778</td>\n",
       "      <td>8.820024</td>\n",
       "      <td>1.887850</td>\n",
       "      <td>6.932174</td>\n",
       "      <td>21.029583</td>\n",
       "      <td>-0.015651</td>\n",
       "      <td>-0.015652</td>\n",
       "      <td>-9.642735</td>\n",
       "    </tr>\n",
       "    <tr>\n",
       "      <th>2012-07-27</th>\n",
       "      <td>20.536072</td>\n",
       "      <td>20.922501</td>\n",
       "      <td>20.413929</td>\n",
       "      <td>17.894909</td>\n",
       "      <td>403936400</td>\n",
       "      <td>-3.059691e+09</td>\n",
       "      <td>-10412382400</td>\n",
       "      <td>0.217803</td>\n",
       "      <td>-6.951793e+07</td>\n",
       "      <td>0.014974</td>\n",
       "      <td>...</td>\n",
       "      <td>0.140904</td>\n",
       "      <td>0.817655</td>\n",
       "      <td>-0.676751</td>\n",
       "      <td>6.945565</td>\n",
       "      <td>2.899393</td>\n",
       "      <td>4.046172</td>\n",
       "      <td>21.020596</td>\n",
       "      <td>1.788194</td>\n",
       "      <td>1.772394</td>\n",
       "      <td>-8.026973</td>\n",
       "    </tr>\n",
       "    <tr>\n",
       "      <th>2012-07-30</th>\n",
       "      <td>21.104286</td>\n",
       "      <td>21.408571</td>\n",
       "      <td>20.993570</td>\n",
       "      <td>18.196743</td>\n",
       "      <td>379142400</td>\n",
       "      <td>-2.968329e+09</td>\n",
       "      <td>-10033240000</td>\n",
       "      <td>0.179813</td>\n",
       "      <td>-4.049422e+07</td>\n",
       "      <td>0.058325</td>\n",
       "      <td>...</td>\n",
       "      <td>0.148694</td>\n",
       "      <td>0.683863</td>\n",
       "      <td>-0.535168</td>\n",
       "      <td>4.948802</td>\n",
       "      <td>3.309275</td>\n",
       "      <td>1.639527</td>\n",
       "      <td>21.027191</td>\n",
       "      <td>1.686723</td>\n",
       "      <td>1.672655</td>\n",
       "      <td>-6.475643</td>\n",
       "    </tr>\n",
       "    <tr>\n",
       "      <th>2012-07-31</th>\n",
       "      <td>21.543928</td>\n",
       "      <td>21.846430</td>\n",
       "      <td>21.525715</td>\n",
       "      <td>18.677780</td>\n",
       "      <td>462327600</td>\n",
       "      <td>-2.602796e+09</td>\n",
       "      <td>-9570912400</td>\n",
       "      <td>0.183487</td>\n",
       "      <td>2.394752e+06</td>\n",
       "      <td>0.033644</td>\n",
       "      <td>...</td>\n",
       "      <td>0.363931</td>\n",
       "      <td>0.619876</td>\n",
       "      <td>-0.255945</td>\n",
       "      <td>4.800551</td>\n",
       "      <td>3.607530</td>\n",
       "      <td>1.193021</td>\n",
       "      <td>21.033824</td>\n",
       "      <td>2.643560</td>\n",
       "      <td>2.609221</td>\n",
       "      <td>-4.003271</td>\n",
       "    </tr>\n",
       "    <tr>\n",
       "      <th>2012-08-01</th>\n",
       "      <td>21.996786</td>\n",
       "      <td>22.014286</td>\n",
       "      <td>21.535713</td>\n",
       "      <td>18.556993</td>\n",
       "      <td>384501600</td>\n",
       "      <td>-2.768648e+09</td>\n",
       "      <td>-9955414000</td>\n",
       "      <td>0.138849</td>\n",
       "      <td>-5.696233e+06</td>\n",
       "      <td>0.011068</td>\n",
       "      <td>...</td>\n",
       "      <td>0.474916</td>\n",
       "      <td>0.590884</td>\n",
       "      <td>-0.115969</td>\n",
       "      <td>3.235976</td>\n",
       "      <td>3.533219</td>\n",
       "      <td>-0.297243</td>\n",
       "      <td>21.036801</td>\n",
       "      <td>-0.646735</td>\n",
       "      <td>-0.648835</td>\n",
       "      <td>-4.624115</td>\n",
       "    </tr>\n",
       "  </tbody>\n",
       "</table>\n",
       "<p>5 rows × 89 columns</p>\n",
       "</div>"
      ],
      "text/plain": [
       "                 Open       High        Low  Adj Close     Volume  \\\n",
       "Date                                                                \n",
       "2012-07-26  20.705713  20.728571  20.370001  17.580532  406632800   \n",
       "2012-07-27  20.536072  20.922501  20.413929  17.894909  403936400   \n",
       "2012-07-30  21.104286  21.408571  20.993570  18.196743  379142400   \n",
       "2012-07-31  21.543928  21.846430  21.525715  18.677780  462327600   \n",
       "2012-08-01  21.996786  22.014286  21.535713  18.556993  384501600   \n",
       "\n",
       "              volume_adi   volume_obv  volume_cmf     volume_fi  volume_em  \\\n",
       "Date                                                                         \n",
       "2012-07-26 -3.425615e+09 -10816318800    0.171146 -1.058212e+08  -0.000063   \n",
       "2012-07-27 -3.059691e+09 -10412382400    0.217803 -6.951793e+07   0.014974   \n",
       "2012-07-30 -2.968329e+09 -10033240000    0.179813 -4.049422e+07   0.058325   \n",
       "2012-07-31 -2.602796e+09  -9570912400    0.183487  2.394752e+06   0.033644   \n",
       "2012-08-01 -2.768648e+09  -9955414000    0.138849 -5.696233e+06   0.011068   \n",
       "\n",
       "            ...  momentum_ppo  momentum_ppo_signal  momentum_ppo_hist  \\\n",
       "Date        ...                                                         \n",
       "2012-07-26  ...      0.298065             0.986843          -0.688778   \n",
       "2012-07-27  ...      0.140904             0.817655          -0.676751   \n",
       "2012-07-30  ...      0.148694             0.683863          -0.535168   \n",
       "2012-07-31  ...      0.363931             0.619876          -0.255945   \n",
       "2012-08-01  ...      0.474916             0.590884          -0.115969   \n",
       "\n",
       "            momentum_pvo  momentum_pvo_signal  momentum_pvo_hist  \\\n",
       "Date                                                               \n",
       "2012-07-26      8.820024             1.887850           6.932174   \n",
       "2012-07-27      6.945565             2.899393           4.046172   \n",
       "2012-07-30      4.948802             3.309275           1.639527   \n",
       "2012-07-31      4.800551             3.607530           1.193021   \n",
       "2012-08-01      3.235976             3.533219          -0.297243   \n",
       "\n",
       "            momentum_kama  others_dr  others_dlr  others_cr  \n",
       "Date                                                         \n",
       "2012-07-26      21.029583  -0.015651   -0.015652  -9.642735  \n",
       "2012-07-27      21.020596   1.788194    1.772394  -8.026973  \n",
       "2012-07-30      21.027191   1.686723    1.672655  -6.475643  \n",
       "2012-07-31      21.033824   2.643560    2.609221  -4.003271  \n",
       "2012-08-01      21.036801  -0.646735   -0.648835  -4.624115  \n",
       "\n",
       "[5 rows x 89 columns]"
      ]
     },
     "execution_count": 178,
     "metadata": {},
     "output_type": "execute_result"
    }
   ],
   "source": [
    "X = df.drop(\"Close\",axis = 1)\n",
    "y = df[\"Close\"]\n",
    "X.head()"
   ]
  },
  {
   "cell_type": "code",
   "execution_count": 179,
   "id": "63663357",
   "metadata": {},
   "outputs": [],
   "source": [
    "y = np.array(y)"
   ]
  },
  {
   "cell_type": "code",
   "execution_count": 180,
   "id": "fcff7bd6",
   "metadata": {},
   "outputs": [
    {
     "data": {
      "text/plain": [
       "(2440, 1)"
      ]
     },
     "execution_count": 180,
     "metadata": {},
     "output_type": "execute_result"
    }
   ],
   "source": [
    "y = np.reshape(y,(-1,1))\n",
    "y = pd.DataFrame(y)\n",
    "y.shape"
   ]
  },
  {
   "cell_type": "code",
   "execution_count": 197,
   "id": "de3f131f",
   "metadata": {},
   "outputs": [],
   "source": [
    "X_transformed = scaler.fit_transform(X)\n",
    "y_transformed = scaler.fit_transform(y)"
   ]
  },
  {
   "cell_type": "code",
   "execution_count": 198,
   "id": "4f450648",
   "metadata": {},
   "outputs": [
    {
     "data": {
      "text/plain": [
       "(1952, 89)"
      ]
     },
     "execution_count": 198,
     "metadata": {},
     "output_type": "execute_result"
    }
   ],
   "source": [
    "X_train, X_test, y_train, y_test = train_test_split(X_transformed,y_transformed,train_size = 0.8)\n",
    "X_train.shape"
   ]
  },
  {
   "cell_type": "code",
   "execution_count": 199,
   "id": "c32b3ea2",
   "metadata": {},
   "outputs": [],
   "source": [
    "X_train = np.array(X_train)\n",
    "X_train = X_train.reshape(1952,89,1)"
   ]
  },
  {
   "cell_type": "code",
   "execution_count": 190,
   "id": "839dfcfb",
   "metadata": {},
   "outputs": [],
   "source": [
    "from keras.models import Sequential\n",
    "from keras.layers import LSTM\n",
    "from keras.layers import Dense"
   ]
  },
  {
   "cell_type": "code",
   "execution_count": 236,
   "id": "dadeef24",
   "metadata": {},
   "outputs": [],
   "source": [
    "model = Sequential()"
   ]
  },
  {
   "cell_type": "code",
   "execution_count": 237,
   "id": "e1cd239a",
   "metadata": {},
   "outputs": [],
   "source": [
    "model.add(LSTM(units = 180, activation = 'relu',return_sequences = True))\n",
    "model.add(LSTM(units = 60, activation = 'relu',return_sequences = True))\n",
    "model.add(LSTM(units = 60, activation = 'relu',return_sequences = True))\n",
    "model.add(LSTM(units = 30))\n",
    "model.add(Dense(units = 1))\n",
    "model.compile(loss = \"mse\", optimizer = \"adam\", metrics = [\"accuracy\"])"
   ]
  },
  {
   "cell_type": "code",
   "execution_count": 238,
   "id": "911ca059",
   "metadata": {},
   "outputs": [
    {
     "name": "stdout",
     "output_type": "stream",
     "text": [
      "Epoch 1/10\n",
      "61/61 [==============================] - 12s 151ms/step - loss: 0.0653 - accuracy: 5.1230e-04\n",
      "Epoch 2/10\n",
      "61/61 [==============================] - 9s 150ms/step - loss: 0.0716 - accuracy: 5.1230e-04\n",
      "Epoch 3/10\n",
      "61/61 [==============================] - 9s 152ms/step - loss: 0.0659 - accuracy: 5.1230e-04\n",
      "Epoch 4/10\n",
      "61/61 [==============================] - 10s 168ms/step - loss: 0.0561 - accuracy: 5.1230e-04\n",
      "Epoch 5/10\n",
      "61/61 [==============================] - 10s 169ms/step - loss: 0.0092 - accuracy: 0.0010\n",
      "Epoch 6/10\n",
      "61/61 [==============================] - 10s 165ms/step - loss: 0.0090 - accuracy: 0.0010\n",
      "Epoch 7/10\n",
      "61/61 [==============================] - 10s 165ms/step - loss: 0.0066 - accuracy: 0.0010\n",
      "Epoch 8/10\n",
      "61/61 [==============================] - 10s 167ms/step - loss: 0.0055 - accuracy: 0.0010\n",
      "Epoch 9/10\n",
      "61/61 [==============================] - 10s 171ms/step - loss: 0.0028 - accuracy: 0.0010\n",
      "Epoch 10/10\n",
      "61/61 [==============================] - 11s 174ms/step - loss: nan - accuracy: 0.0010\n"
     ]
    },
    {
     "data": {
      "text/plain": [
       "<keras.callbacks.History at 0x16c593bed90>"
      ]
     },
     "execution_count": 238,
     "metadata": {},
     "output_type": "execute_result"
    }
   ],
   "source": [
    "model.fit(X_train,y_train, epochs = 10)"
   ]
  },
  {
   "cell_type": "code",
   "execution_count": 245,
   "id": "f9e7ccdc",
   "metadata": {},
   "outputs": [],
   "source": [
    "X_test = np.array(X_test)\n",
    "X_test = X_test.reshape(-1,89,1)"
   ]
  },
  {
   "cell_type": "code",
   "execution_count": 246,
   "id": "0f4521ff",
   "metadata": {},
   "outputs": [],
   "source": [
    "y_pred = model.predict(X_test)"
   ]
  },
  {
   "cell_type": "code",
   "execution_count": 247,
   "id": "1ee7958a",
   "metadata": {},
   "outputs": [],
   "source": [
    "y_pred_inv_transformed = scaler.inverse_transform(y_pred)\n",
    "y_actual_inv_transformed = scaler.inverse_transform(y_test)"
   ]
  },
  {
   "cell_type": "code",
   "execution_count": 253,
   "id": "dd444cb3",
   "metadata": {},
   "outputs": [
    {
     "data": {
      "text/plain": [
       "[<matplotlib.lines.Line2D at 0x16c47e774c0>]"
      ]
     },
     "execution_count": 253,
     "metadata": {},
     "output_type": "execute_result"
    },
    {
     "data": {
      "image/png": "[encoded data removed]",
      "text/plain": [
       "<Figure size 432x288 with 1 Axes>"
      ]
     },
     "metadata": {
      "needs_background": "light"
     },
     "output_type": "display_data"
    }
   ],
   "source": [
    "plt.plot(y_pred_inv_transformed[480:])\n",
    "plt.plot(y_actual_inv_transformed[480:])"
   ]
  },
  {
   "cell_type": "code",
   "execution_count": 249,
   "id": "d8633394",
   "metadata": {},
   "outputs": [
    {
     "data": {
      "text/plain": [
       "[<matplotlib.lines.Line2D at 0x16c51e7a7f0>]"
      ]
     },
     "execution_count": 249,
     "metadata": {},
     "output_type": "execute_result"
    },
    {
     "data": {
      "image/png": "[encoded data removed]",
      "text/plain": [
       "<Figure size 432x288 with 1 Axes>"
      ]
     },
     "metadata": {
      "needs_background": "light"
     },
     "output_type": "display_data"
    }
   ],
   "source": [
    "plt.plot(stock[\"Open\"])"
   ]
  },
  {
   "cell_type": "code",
   "execution_count": 216,
   "id": "987a2b3c",
   "metadata": {},
   "outputs": [
    {
     "data": {
      "text/plain": [
       "[<matplotlib.lines.Line2D at 0x16c2dc3e790>]"
      ]
     },
     "execution_count": 216,
     "metadata": {},
     "output_type": "execute_result"
    },
    {
     "data": {
      "image/png": "[encoded data removed]",
      "text/plain": [
       "<Figure size 432x288 with 1 Axes>"
      ]
     },
     "metadata": {
      "needs_background": "light"
     },
     "output_type": "display_data"
    }
   ],
   "source": []
  },
  {
   "cell_type": "code",
   "execution_count": null,
   "id": "5d802e4e",
   "metadata": {},
   "outputs": [],
   "source": []
  }
 ],
 "metadata": {
  "kernelspec": {
   "display_name": "Python 3 (ipykernel)",
   "language": "python",
   "name": "python3"
  },
  "language_info": {
   "codemirror_mode": {
    "name": "ipython",
    "version": 3
   },
   "file_extension": ".py",
   "mimetype": "text/x-python",
   "name": "python",
   "nbconvert_exporter": "python",
   "pygments_lexer": "ipython3",
   "version": "3.9.7"
  }
 },
 "nbformat": 4,
 "nbformat_minor": 5
}
