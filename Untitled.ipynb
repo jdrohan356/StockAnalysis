{
 "cells": [
  {
   "cell_type": "code",
   "execution_count": 65,
   "id": "c095188d",
   "metadata": {},
   "outputs": [],
   "source": [
    "import pandas as pd\n",
    "import yfinance as yf\n",
    "import datetime\n",
    "import matplotlib.pyplot as plt\n",
    "from mpl_finance import candlestick_ohlc"
   ]
  },
  {
   "cell_type": "code",
   "execution_count": 66,
   "id": "3dafdfdd",
   "metadata": {},
   "outputs": [],
   "source": [
    "start = datetime.datetime(2012,4,6)\n",
    "end = datetime.datetime(2022,4,6)"
   ]
  },
  {
   "cell_type": "code",
   "execution_count": 67,
   "id": "b97273f6",
   "metadata": {},
   "outputs": [
    {
     "name": "stdout",
     "output_type": "stream",
     "text": [
      "[*********************100%***********************]  1 of 1 completed\n"
     ]
    }
   ],
   "source": [
    "stock = yf.download('AAPL',start,end)"
   ]
  },
  {
   "cell_type": "code",
   "execution_count": 68,
   "id": "165281b4",
   "metadata": {},
   "outputs": [],
   "source": [
    "stock_index = stock.reset_index()"
   ]
  },
  {
   "cell_type": "code",
   "execution_count": 69,
   "id": "405cca1b",
   "metadata": {},
   "outputs": [
    {
     "data": {
      "text/html": [
       "<div>\n",
       "<style scoped>\n",
       "    .dataframe tbody tr th:only-of-type {\n",
       "        vertical-align: middle;\n",
       "    }\n",
       "\n",
       "    .dataframe tbody tr th {\n",
       "        vertical-align: top;\n",
       "    }\n",
       "\n",
       "    .dataframe thead th {\n",
       "        text-align: right;\n",
       "    }\n",
       "</style>\n",
       "<table border=\"1\" class=\"dataframe\">\n",
       "  <thead>\n",
       "    <tr style=\"text-align: right;\">\n",
       "      <th></th>\n",
       "      <th>Date</th>\n",
       "      <th>Open</th>\n",
       "      <th>High</th>\n",
       "      <th>Low</th>\n",
       "      <th>Close</th>\n",
       "      <th>Adj Close</th>\n",
       "      <th>Volume</th>\n",
       "    </tr>\n",
       "  </thead>\n",
       "  <tbody>\n",
       "    <tr>\n",
       "      <th>0</th>\n",
       "      <td>2012-04-09</td>\n",
       "      <td>22.361786</td>\n",
       "      <td>22.851429</td>\n",
       "      <td>22.332144</td>\n",
       "      <td>22.722500</td>\n",
       "      <td>19.456692</td>\n",
       "      <td>597536800</td>\n",
       "    </tr>\n",
       "    <tr>\n",
       "      <th>1</th>\n",
       "      <td>2012-04-10</td>\n",
       "      <td>22.854643</td>\n",
       "      <td>23.000000</td>\n",
       "      <td>22.357143</td>\n",
       "      <td>22.444286</td>\n",
       "      <td>19.218468</td>\n",
       "      <td>889725200</td>\n",
       "    </tr>\n",
       "    <tr>\n",
       "      <th>2</th>\n",
       "      <td>2012-04-11</td>\n",
       "      <td>22.721430</td>\n",
       "      <td>22.745358</td>\n",
       "      <td>22.262142</td>\n",
       "      <td>22.364286</td>\n",
       "      <td>19.149965</td>\n",
       "      <td>696614800</td>\n",
       "    </tr>\n",
       "    <tr>\n",
       "      <th>3</th>\n",
       "      <td>2012-04-12</td>\n",
       "      <td>22.321428</td>\n",
       "      <td>22.547501</td>\n",
       "      <td>22.160713</td>\n",
       "      <td>22.241785</td>\n",
       "      <td>19.045071</td>\n",
       "      <td>614336800</td>\n",
       "    </tr>\n",
       "    <tr>\n",
       "      <th>4</th>\n",
       "      <td>2012-04-13</td>\n",
       "      <td>22.289642</td>\n",
       "      <td>22.310715</td>\n",
       "      <td>21.553928</td>\n",
       "      <td>21.615356</td>\n",
       "      <td>18.508669</td>\n",
       "      <td>859644800</td>\n",
       "    </tr>\n",
       "  </tbody>\n",
       "</table>\n",
       "</div>"
      ],
      "text/plain": [
       "        Date       Open       High        Low      Close  Adj Close     Volume\n",
       "0 2012-04-09  22.361786  22.851429  22.332144  22.722500  19.456692  597536800\n",
       "1 2012-04-10  22.854643  23.000000  22.357143  22.444286  19.218468  889725200\n",
       "2 2012-04-11  22.721430  22.745358  22.262142  22.364286  19.149965  696614800\n",
       "3 2012-04-12  22.321428  22.547501  22.160713  22.241785  19.045071  614336800\n",
       "4 2012-04-13  22.289642  22.310715  21.553928  21.615356  18.508669  859644800"
      ]
     },
     "execution_count": 69,
     "metadata": {},
     "output_type": "execute_result"
    }
   ],
   "source": [
    "stock_index.head()"
   ]
  },
  {
   "cell_type": "code",
   "execution_count": 70,
   "id": "26a9842f",
   "metadata": {},
   "outputs": [
    {
     "data": {
      "image/png": "[encoded data removed]",
      "text/plain": [
       "<Figure size 432x288 with 1 Axes>"
      ]
     },
     "metadata": {
      "needs_background": "light"
     },
     "output_type": "display_data"
    }
   ],
   "source": [
    "acc = plt.plot(stock_index[\"Date\"],stock_index[\"Open\"])\n",
    "#plt.plot(stock[\"Date\"],stock[\"Close\"])"
   ]
  },
  {
   "cell_type": "code",
   "execution_count": 3,
   "id": "1b04366e",
   "metadata": {},
   "outputs": [],
   "source": [
    "import numpy as np"
   ]
  },
  {
   "cell_type": "code",
   "execution_count": 7,
   "id": "3e8dd8c4",
   "metadata": {},
   "outputs": [],
   "source": [
    "class SVM_classifier():\n",
    "    def __init__(self, learning_rate, no_of_iterations, lambda_parameter):\n",
    "        \n",
    "        self.learning_rate = learning_rate\n",
    "        self.no_of_iterations = no_of_iterations\n",
    "        self.lambda_paramter = lambda_parameter\n",
    "        \n",
    "    def fit(self,X,Y):\n",
    "        self.m, self.n = X.shape\n",
    "        self.w = np.zeroes(self.n)\n",
    "        self.b = 0\n",
    "        self.X = X\n",
    "        self.Y = Y\n",
    "            \n",
    "        for i in range(self.no_of_iterations):\n",
    "            self.update_weights()\n",
    "    \n",
    "    def update_weights(self):\n",
    "        \n",
    "        y_label = np.where(self.Y <= 0, -1, 1)\n",
    "        \n",
    "        for index, x_i in enumerate(self.X):\n",
    "            \n",
    "            condition = y_label[index] * (np.dot(x_i, self.w) - self.b) >= 1\n",
    "            \n",
    "            if (condition == True):\n",
    "                \n",
    "                dw = 2* self.lambda_parameter * self.w - np.dot(x_i, y_label[index])\n",
    "                db = 0\n",
    "                \n",
    "            else:\n",
    "                dw = 2* self.lambda_parameter * self.w\n",
    "                db = y_label[index]\n",
    "            \n",
    "            \n",
    "            self.w = self.w - self.learning_rate * dw\n",
    "            self.b = self.b - self.learning_rate * db\n",
    "            \n",
    "    def predict(self, X):\n",
    "\n",
    "        output = np.dot(X, self.w) - self.b\n",
    "        predicted_labels = np.sign(output)\n",
    "        y_hat = np.where(predicted_labels <= -1, 0, 1)\n",
    "        return y_hat   "
   ]
  },
  {
   "cell_type": "code",
   "execution_count": null,
   "id": "f532553f",
   "metadata": {},
   "outputs": [],
   "source": []
  }
 ],
 "metadata": {
  "kernelspec": {
   "display_name": "Python 3 (ipykernel)",
   "language": "python",
   "name": "python3"
  },
  "language_info": {
   "codemirror_mode": {
    "name": "ipython",
    "version": 3
   },
   "file_extension": ".py",
   "mimetype": "text/x-python",
   "name": "python",
   "nbconvert_exporter": "python",
   "pygments_lexer": "ipython3",
   "version": "3.9.7"
  }
 },
 "nbformat": 4,
 "nbformat_minor": 5
}
